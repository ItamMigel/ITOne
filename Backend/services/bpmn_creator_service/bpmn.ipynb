{
 "cells": [
  {
   "cell_type": "code",
   "execution_count": 24,
   "metadata": {},
   "outputs": [],
   "source": [
    "from api import call_deepseek_api"
   ]
  },
  {
   "cell_type": "code",
   "execution_count": 25,
   "metadata": {},
   "outputs": [
    {
     "name": "stderr",
     "output_type": "stream",
     "text": [
      "2025-04-21 22:32:17 [DEBUG] : Request options: {'method': 'post', 'url': '/chat/completions', 'files': None, 'json_data': {'messages': [{'role': 'system', 'content': 'Ты бизнез-консультант. Твоя цель - помощь в построении BPMN диаграммы по информации от пользователя.'}, {'role': 'user', 'content': \"\\n                **Роль:** Ты — продвинутый ИИ-ассистент, специализирующийся на анализе и моделировании бизнес-процессов в формате BPMN.\\n\\n                **Задача:** Проанализируй следующее текстовое описание бизнес-процесса и преобразуй его в структурированный текст, используя синтаксис PiperFlow, который подходит для библиотеки Python `processpiper`. Твоя цель — максимально точно воспроизвести структуру и элементы, показанные в примере ниже.\\n\\n                **Входное описание процесса:**\\n                Процесс начинается, когда клиент нажимает кнопку 'Оформить заказ' на сайте. Система должна проверить наличие товара на складе. Если товар в наличии, нужно создать счет на оплату и отправить его клиенту. Если товара нет, необходимо уведомить клиента об отсутствии и предложить похожие товары. После отправки счета или уведомления процесс завершается.\\n\\n                **Требования к выходному формату (PiperFlow Syntax):**\\n\\n                Вы — помощник по преобразованию описания бизнес‑процесса в синтаксис PiperFlow для библиотеки processpiper. \\n                Когда приходит текстовое описание, выдавайте только блок кода, строго по этому шаблону, не используя двойные кавчки в ответе:\\n\\n                title: <Название процесса>\\n                colourtheme: BLUEMOUNTAIN\\n\\n                pool: <Имя первого пула>\\n                    lane: <Имя первой роли>\\n                        (start) as start_event\\n                        [<Действие 1>] as <идентификатор_1>\\n                        [<Действие 2>] as <идентификатор_2>\\n                        …\\n                        start_event -> <идентификатор_1> -> <идентификатор_2> -> …\\n\\n                pool: <Имя второго пула>\\n                    lane: <Имя роли>\\n                        [<Действие 3>] as <идентификатор_3>\\n                        <Условие?> as <идентификатор_шлюза>  \\n                        [<Действие 4>] as <идентификатор_4>\\n                        [<Действие 5>] as <идентификатор_5>\\n                        (end) as end_event\\n\\n                        <поток_событий_1>\\n                        <поток_событий_2>\\n                        …\\n\\n                footer: <Краткое описание процесса>\\n\\n                **Полный пример желаемого вывода (используй этот формат и стиль):**\\n                \"}], 'model': 'deepseek-chat', 'max_tokens': 1024, 'stream': False, 'temperature': 0.7}}\n",
      "2025-04-21 22:32:17 [DEBUG] : Sending HTTP Request: POST https://api.deepseek.com/v1/chat/completions\n",
      "2025-04-21 22:32:17 [DEBUG] : connect_tcp.started host='api.deepseek.com' port=443 local_address=None timeout=5.0 socket_options=None\n"
     ]
    },
    {
     "name": "stdout",
     "output_type": "stream",
     "text": [
      "Отправка запроса к модели deepseek-chat...\n"
     ]
    },
    {
     "name": "stderr",
     "output_type": "stream",
     "text": [
      "2025-04-21 22:32:17 [DEBUG] : connect_tcp.complete return_value=<httpcore._backends.sync.SyncStream object at 0x115c95d20>\n",
      "2025-04-21 22:32:17 [DEBUG] : start_tls.started ssl_context=<ssl.SSLContext object at 0x115c29dc0> server_hostname='api.deepseek.com' timeout=5.0\n",
      "2025-04-21 22:32:17 [DEBUG] : start_tls.complete return_value=<httpcore._backends.sync.SyncStream object at 0x115c96140>\n",
      "2025-04-21 22:32:17 [DEBUG] : send_request_headers.started request=<Request [b'POST']>\n",
      "2025-04-21 22:32:17 [DEBUG] : send_request_headers.complete\n",
      "2025-04-21 22:32:17 [DEBUG] : send_request_body.started request=<Request [b'POST']>\n",
      "2025-04-21 22:32:17 [DEBUG] : send_request_body.complete\n",
      "2025-04-21 22:32:17 [DEBUG] : receive_response_headers.started request=<Request [b'POST']>\n",
      "2025-04-21 22:32:18 [DEBUG] : receive_response_headers.complete return_value=(b'HTTP/1.1', 200, b'OK', [(b'Date', b'Mon, 21 Apr 2025 19:32:18 GMT'), (b'Content-Type', b'application/json'), (b'Transfer-Encoding', b'chunked'), (b'Connection', b'keep-alive'), (b'vary', b'origin, access-control-request-method, access-control-request-headers'), (b'access-control-allow-credentials', b'true'), (b'x-ds-trace-id', b'e04bf9f9874fd0e33465d3a966a34c7a'), (b'Strict-Transport-Security', b'max-age=31536000; includeSubDomains; preload'), (b'X-Content-Type-Options', b'nosniff'), (b'cf-cache-status', b'DYNAMIC'), (b'Set-Cookie', b'__cf_bm=CAQiKNBKka51C.mpS4tzXN6oQuCif5actD0sDd_WH3A-1745263938-1.0.1.1-wKEA3pW1jgehOHoJd.jumO_Cum3p9KdelDPjigE8V4TbTmJ2aTn9dfXxDHSTFsy04r6CkPfjrcAfRdDe4pmDvUgC9z1U8uVCj8AzJBr8n4Q; path=/; expires=Mon, 21-Apr-25 20:02:18 GMT; domain=.deepseek.com; HttpOnly; Secure; SameSite=None'), (b'Server', b'cloudflare'), (b'CF-RAY', b'933f4e7beadd0b65-OSL'), (b'Content-Encoding', b'gzip')])\n",
      "2025-04-21 22:32:18 [INFO] : HTTP Request: POST https://api.deepseek.com/v1/chat/completions \"HTTP/1.1 200 OK\"\n",
      "2025-04-21 22:32:18 [DEBUG] : receive_response_body.started request=<Request [b'POST']>\n",
      "2025-04-21 22:32:30 [DEBUG] : receive_response_body.complete\n",
      "2025-04-21 22:32:30 [DEBUG] : response_closed.started\n",
      "2025-04-21 22:32:30 [DEBUG] : response_closed.complete\n",
      "2025-04-21 22:32:30 [DEBUG] : HTTP Response: POST https://api.deepseek.com/v1/chat/completions \"200 OK\" Headers({'date': 'Mon, 21 Apr 2025 19:32:18 GMT', 'content-type': 'application/json', 'transfer-encoding': 'chunked', 'connection': 'keep-alive', 'vary': 'origin, access-control-request-method, access-control-request-headers', 'access-control-allow-credentials': 'true', 'x-ds-trace-id': 'e04bf9f9874fd0e33465d3a966a34c7a', 'strict-transport-security': 'max-age=31536000; includeSubDomains; preload', 'x-content-type-options': 'nosniff', 'cf-cache-status': 'DYNAMIC', 'set-cookie': '__cf_bm=CAQiKNBKka51C.mpS4tzXN6oQuCif5actD0sDd_WH3A-1745263938-1.0.1.1-wKEA3pW1jgehOHoJd.jumO_Cum3p9KdelDPjigE8V4TbTmJ2aTn9dfXxDHSTFsy04r6CkPfjrcAfRdDe4pmDvUgC9z1U8uVCj8AzJBr8n4Q; path=/; expires=Mon, 21-Apr-25 20:02:18 GMT; domain=.deepseek.com; HttpOnly; Secure; SameSite=None', 'server': 'cloudflare', 'cf-ray': '933f4e7beadd0b65-OSL', 'content-encoding': 'gzip'})\n",
      "2025-04-21 22:32:30 [DEBUG] : request_id: None\n"
     ]
    },
    {
     "name": "stdout",
     "output_type": "stream",
     "text": [
      "Ответ получен.\n"
     ]
    }
   ],
   "source": [
    "user_promt = \"Процесс начинается, когда клиент нажимает кнопку 'Оформить заказ' на сайте. Система должна проверить наличие товара на складе. Если товар в наличии, нужно создать счет на оплату и отправить его клиенту. Если товара нет, необходимо уведомить клиента об отсутствии и предложить похожие товары. После отправки счета или уведомления процесс завершается.\"\n",
    "answer = call_deepseek_api(prompt=user_promt)"
   ]
  },
  {
   "cell_type": "code",
   "execution_count": 26,
   "metadata": {},
   "outputs": [
    {
     "data": {
      "text/plain": [
       "'title: Оформление заказа\\ncolourtheme: BLUEMOUNTAIN\\n\\npool: Клиент\\n    lane: Клиент\\n        (start) as start_event\\n        [Нажать кнопку \"Оформить заказ\"] as click_order_button\\n        start_event -> click_order_button\\n\\npool: Система\\n    lane: Система\\n        [Проверить наличие товара] as check_stock\\n        <Товар в наличии?> as stock_gateway\\n        [Создать счет на оплату] as create_invoice\\n        [Отправить счет клиенту] as send_invoice\\n        [Уведомить об отсутствии товара] as notify_out_of_stock\\n        [Предложить похожие товары] as suggest_alternatives\\n        (end) as end_event\\n\\n        click_order_button -> check_stock -> stock_gateway\\n        stock_gateway -> create_invoice -> send_invoice -> end_event\\n        stock_gateway -> notify_out_of_stock -> suggest_alternatives -> end_event\\n\\nfooter: Процесс оформления заказа с проверкой наличия товара и альтернативами'"
      ]
     },
     "execution_count": 26,
     "metadata": {},
     "output_type": "execute_result"
    }
   ],
   "source": [
    "answer"
   ]
  },
  {
   "cell_type": "code",
   "execution_count": 27,
   "metadata": {},
   "outputs": [],
   "source": [
    "import re\n",
    "\n",
    "def extract_piperflow_block(text: str) -> str:\n",
    "    \"\"\"\n",
    "    Ищет в тексте блок, начинающийся с 'title:' и заканчивающийся на 'colourtheme:',\n",
    "    включая тему (например, 'colourtheme: BLUEMOUNTAIN').\n",
    "    Возвращает найденный блок или пустую строку, если не найдено.\n",
    "    \"\"\"\n",
    "    # Регэксп: захватывает минимальный блок от title: до последнего colourtheme:\n",
    "    text = text.replace('\"', '')\n",
    "    pattern = \"\"\"{text}\n",
    "    \"\"\"\n",
    "    final_text = pattern.format(text=text)\n",
    "    return final_text\n",
    "\n",
    "text = extract_piperflow_block(answer)"
   ]
  },
  {
   "cell_type": "code",
   "execution_count": 28,
   "metadata": {},
   "outputs": [
    {
     "name": "stdout",
     "output_type": "stream",
     "text": [
      "title: Оформление заказа\n",
      "colourtheme: BLUEMOUNTAIN\n",
      "\n",
      "pool: Клиент\n",
      "    lane: Клиент\n",
      "        (start) as start_event\n",
      "        [Нажать кнопку Оформить заказ] as click_order_button\n",
      "        start_event -> click_order_button\n",
      "\n",
      "pool: Система\n",
      "    lane: Система\n",
      "        [Проверить наличие товара] as check_stock\n",
      "        <Товар в наличии?> as stock_gateway\n",
      "        [Создать счет на оплату] as create_invoice\n",
      "        [Отправить счет клиенту] as send_invoice\n",
      "        [Уведомить об отсутствии товара] as notify_out_of_stock\n",
      "        [Предложить похожие товары] as suggest_alternatives\n",
      "        (end) as end_event\n",
      "\n",
      "        click_order_button -> check_stock -> stock_gateway\n",
      "        stock_gateway -> create_invoice -> send_invoice -> end_event\n",
      "        stock_gateway -> notify_out_of_stock -> suggest_alternatives -> end_event\n",
      "\n",
      "footer: Процесс оформления заказа с проверкой наличия товара и альтернативами\n",
      "    \n"
     ]
    }
   ],
   "source": [
    "print(text)"
   ]
  },
  {
   "cell_type": "code",
   "execution_count": 32,
   "metadata": {},
   "outputs": [
    {
     "name": "stderr",
     "output_type": "stream",
     "text": [
      "2025-04-21 22:32:56 [INFO] : Took [147.03ms] to generate 'process_example_corrected_ru_v3.png' diagram\n",
      "2025-04-21 22:32:56 [DEBUG] : STREAM b'IHDR' 16 13\n",
      "2025-04-21 22:32:56 [DEBUG] : STREAM b'pHYs' 41 9\n",
      "2025-04-21 22:32:56 [DEBUG] : STREAM b'IDAT' 62 39910\n"
     ]
    },
    {
     "name": "stdout",
     "output_type": "stream",
     "text": [
      "Исправленная диаграмма V3 (RU) сохранена в файл process_example_corrected_ru_v3.png.png\n"
     ]
    }
   ],
   "source": [
    "# Импортируем необходимую функцию из библиотеки processpiper\n",
    "from processpiper.text2diagram import render\n",
    "\n",
    "\n",
    "# Генерируем диаграмму из текстового описания\n",
    "output_file_name_ru_v3 = \"process_example_corrected_ru_v3.png\"\n",
    "try:\n",
    "    render(text, output_file_name_ru_v3)\n",
    "    print(f\"Исправленная диаграмма V3 (RU) сохранена в файл {output_file_name_ru_v3}.png\")\n",
    "except ValueError as e:\n",
    "    print(f\"Возникла ошибка ValueError при генерации диаграммы V3 (RU): {e}\")\n",
    "except Exception as e: # Ловим другие возможные ошибки\n",
    "    print(f\"Возникла непредвиденная ошибка при генерации диаграммы V3 (RU): {e}\")\n"
   ]
  },
  {
   "cell_type": "code",
   "execution_count": 30,
   "metadata": {},
   "outputs": [
    {
     "name": "stderr",
     "output_type": "stream",
     "text": [
      "2025-04-21 22:32:31 [INFO] : Took [147.76ms] to generate 'process_example_corrected_ru_v3.png' diagram\n",
      "2025-04-21 22:32:31 [DEBUG] : STREAM b'IHDR' 16 13\n",
      "2025-04-21 22:32:31 [DEBUG] : STREAM b'pHYs' 41 9\n",
      "2025-04-21 22:32:31 [DEBUG] : STREAM b'IDAT' 62 35641\n"
     ]
    },
    {
     "name": "stdout",
     "output_type": "stream",
     "text": [
      "Исправленная диаграмма V3 (RU) сохранена в файл process_example_corrected_ru_v3.png\n"
     ]
    }
   ],
   "source": [
    "# Импортируем необходимую функцию из библиотеки processpiper\n",
    "from processpiper.text2diagram import render\n",
    "\n",
    "# Определяем текстовое описание диаграммы с ИСПРАВЛЕННОЙ ЛОГИКОЙ СВЯЗЕЙ\n",
    "input_syntax_russian_corrected_v3 = \"\"\"\n",
    "title: Пример процесса обработки заявки\n",
    "colourtheme: BLUEMOUNTAIN\n",
    "\n",
    "pool: Клиент\n",
    "    lane: Клиент\n",
    "        (start) as start_event\n",
    "        [Заполнить форму] as fill_form\n",
    "        [Отправить заявку] as submit_request\n",
    "        start_event -> fill_form -> submit_request\n",
    "\n",
    "pool: Компания\n",
    "    lane: Отдел продаж\n",
    "        [Проверить заявку] as check_request\n",
    "        <Заявка полная?> as completeness_gateway  \n",
    "        [Одобрить заявку] as approve_request\n",
    "        [Отклонить заявку] as reject_request      \n",
    "        (end) as end_event\n",
    "\n",
    "        submit_request -> check_request -> completeness_gateway\n",
    "        completeness_gateway -> reject_request: Нет     \n",
    "        completeness_gateway -> approve_request: Да            \n",
    "        approve_request -> end_event\n",
    "        reject_request -> end_event                    \n",
    "\n",
    "footer: Процесс обработки заявки клиента\n",
    "\"\"\"\n",
    "\n",
    "# Генерируем диаграмму из текстового описания\n",
    "output_file_name_ru_v3 = \"process_example_corrected_ru_v3.png\"\n",
    "try:\n",
    "    render(input_syntax_russian_corrected_v3, output_file_name_ru_v3)\n",
    "    print(f\"Исправленная диаграмма V3 (RU) сохранена в файл {output_file_name_ru_v3}\")\n",
    "except ValueError as e:\n",
    "    print(f\"Возникла ошибка ValueError при генерации диаграммы V3 (RU): {e}\")\n",
    "except Exception as e: # Ловим другие возможные ошибки\n",
    "    print(f\"Возникла непредвиденная ошибка при генерации диаграммы V3 (RU): {e}\")"
   ]
  },
  {
   "cell_type": "code",
   "execution_count": 31,
   "metadata": {},
   "outputs": [
    {
     "name": "stdout",
     "output_type": "stream",
     "text": [
      "\n",
      "title: Пример процесса обработки заявки\n",
      "colourtheme: BLUEMOUNTAIN\n",
      "\n",
      "pool: Клиент\n",
      "    lane: Клиент\n",
      "        (start) as start_event\n",
      "        [Заполнить форму] as fill_form\n",
      "        [Отправить заявку] as submit_request\n",
      "        start_event -> fill_form -> submit_request\n",
      "\n",
      "pool: Компания\n",
      "    lane: Отдел продаж\n",
      "        [Проверить заявку] as check_request\n",
      "        <Заявка полная?> as completeness_gateway  \n",
      "        [Одобрить заявку] as approve_request\n",
      "        [Отклонить заявку] as reject_request      \n",
      "        (end) as end_event\n",
      "\n",
      "        submit_request -> check_request -> completeness_gateway\n",
      "        completeness_gateway -> reject_request: Нет     \n",
      "        completeness_gateway -> approve_request: Да            \n",
      "        approve_request -> end_event\n",
      "        reject_request -> end_event                    \n",
      "\n",
      "footer: Процесс обработки заявки клиента\n",
      "\n"
     ]
    }
   ],
   "source": [
    "print(input_syntax_russian_corrected_v3)"
   ]
  },
  {
   "cell_type": "code",
   "execution_count": null,
   "metadata": {},
   "outputs": [],
   "source": []
  }
 ],
 "metadata": {
  "kernelspec": {
   "display_name": "venv",
   "language": "python",
   "name": "python3"
  },
  "language_info": {
   "codemirror_mode": {
    "name": "ipython",
    "version": 3
   },
   "file_extension": ".py",
   "mimetype": "text/x-python",
   "name": "python",
   "nbconvert_exporter": "python",
   "pygments_lexer": "ipython3",
   "version": "3.10.17"
  }
 },
 "nbformat": 4,
 "nbformat_minor": 2
}
