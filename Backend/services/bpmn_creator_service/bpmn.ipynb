{
 "cells": [
  {
   "cell_type": "code",
   "execution_count": 1,
   "metadata": {},
   "outputs": [],
   "source": [
    "from api import call_deepseek_api"
   ]
  },
  {
   "cell_type": "code",
   "execution_count": 2,
   "metadata": {},
   "outputs": [
    {
     "name": "stdout",
     "output_type": "stream",
     "text": [
      "Отправка запроса к модели deepseek-ai/DeepSeek-V3-0324...\n",
      "Ответ получен.\n"
     ]
    }
   ],
   "source": [
    "user_promt = \"Процесс начинается, когда клиент нажимает кнопку 'Оформить заказ' на сайте. Система должна проверить наличие товара на складе. Если товар в наличии, нужно создать счет на оплату и отправить его клиенту. Если товара нет, необходимо уведомить клиента об отсутствии и предложить похожие товары. После отправки счета или уведомления процесс завершается.\"\n",
    "answer = call_deepseek_api(prompt=user_promt)"
   ]
  },
  {
   "cell_type": "code",
   "execution_count": 26,
   "metadata": {},
   "outputs": [
    {
     "data": {
      "text/plain": [
       "'title: Оформление заказа\\ncolourtheme: BLUEMOUNTAIN\\n\\npool: Клиент\\n    lane: Клиент\\n        (start) as start_event\\n        [Нажать кнопку \"Оформить заказ\"] as click_order_button\\n        start_event -> click_order_button\\n\\npool: Система\\n    lane: Система\\n        [Проверить наличие товара] as check_stock\\n        <Товар в наличии?> as stock_gateway\\n        [Создать счет на оплату] as create_invoice\\n        [Отправить счет клиенту] as send_invoice\\n        [Уведомить об отсутствии товара] as notify_out_of_stock\\n        [Предложить похожие товары] as suggest_alternatives\\n        (end) as end_event\\n\\n        click_order_button -> check_stock -> stock_gateway\\n        stock_gateway -> create_invoice -> send_invoice -> end_event\\n        stock_gateway -> notify_out_of_stock -> suggest_alternatives -> end_event\\n\\nfooter: Процесс оформления заказа с проверкой наличия товара и альтернативами'"
      ]
     },
     "execution_count": 26,
     "metadata": {},
     "output_type": "execute_result"
    }
   ],
   "source": [
    "answer"
   ]
  },
  {
   "cell_type": "code",
   "execution_count": 3,
   "metadata": {},
   "outputs": [],
   "source": [
    "import re\n",
    "\n",
    "def extract_piperflow_block(text: str) -> str:\n",
    "    \"\"\"\n",
    "    Ищет в тексте блок, начинающийся с 'title:' и заканчивающийся на 'colourtheme:',\n",
    "    включая тему (например, 'colourtheme: BLUEMOUNTAIN').\n",
    "    Возвращает найденный блок или пустую строку, если не найдено.\n",
    "    \"\"\"\n",
    "    # Регэксп: захватывает минимальный блок от title: до последнего colourtheme:\n",
    "    text = text.replace('\"', '')\n",
    "    pattern = \"\"\"{text}\n",
    "    \"\"\"\n",
    "    final_text = pattern.format(text=text)\n",
    "    return final_text\n",
    "\n",
    "text = extract_piperflow_block(answer)"
   ]
  },
  {
   "cell_type": "code",
   "execution_count": 28,
   "metadata": {},
   "outputs": [
    {
     "name": "stdout",
     "output_type": "stream",
     "text": [
      "title: Оформление заказа\n",
      "colourtheme: BLUEMOUNTAIN\n",
      "\n",
      "pool: Клиент\n",
      "    lane: Клиент\n",
      "        (start) as start_event\n",
      "        [Нажать кнопку Оформить заказ] as click_order_button\n",
      "        start_event -> click_order_button\n",
      "\n",
      "pool: Система\n",
      "    lane: Система\n",
      "        [Проверить наличие товара] as check_stock\n",
      "        <Товар в наличии?> as stock_gateway\n",
      "        [Создать счет на оплату] as create_invoice\n",
      "        [Отправить счет клиенту] as send_invoice\n",
      "        [Уведомить об отсутствии товара] as notify_out_of_stock\n",
      "        [Предложить похожие товары] as suggest_alternatives\n",
      "        (end) as end_event\n",
      "\n",
      "        click_order_button -> check_stock -> stock_gateway\n",
      "        stock_gateway -> create_invoice -> send_invoice -> end_event\n",
      "        stock_gateway -> notify_out_of_stock -> suggest_alternatives -> end_event\n",
      "\n",
      "footer: Процесс оформления заказа с проверкой наличия товара и альтернативами\n",
      "    \n"
     ]
    }
   ],
   "source": [
    "print(text)"
   ]
  },
  {
   "cell_type": "code",
   "execution_count": 6,
   "metadata": {},
   "outputs": [
    {
     "name": "stdout",
     "output_type": "stream",
     "text": [
      "Возникла ошибка ValueError при генерации диаграммы V3 (RU): The first line must contain the word 'title'.\n"
     ]
    }
   ],
   "source": [
    "# Импортируем необходимую функцию из библиотеки processpiper\n",
    "from processpiper.text2diagram import render\n",
    "\n",
    "\n",
    "# Генерируем диаграмму из текстового описания\n",
    "output_file_name_ru_v3 = \"process_example_corrected_ru_v3.png\"\n",
    "try:\n",
    "    render(text, output_file_name_ru_v3)\n",
    "    print(f\"Исправленная диаграмма V3 (RU) сохранена в файл {output_file_name_ru_v3}.png\")\n",
    "except ValueError as e:\n",
    "    print(f\"Возникла ошибка ValueError при генерации диаграммы V3 (RU): {e}\")\n",
    "except Exception as e: # Ловим другие возможные ошибки\n",
    "    print(f\"Возникла непредвиденная ошибка при генерации диаграммы V3 (RU): {e}\")\n"
   ]
  },
  {
   "cell_type": "code",
   "execution_count": 7,
   "metadata": {},
   "outputs": [
    {
     "name": "stderr",
     "output_type": "stream",
     "text": [
      "2025-04-22 20:49:48 [INFO] : Took [189.85ms] to generate 'process_example_corrected_ru_v3.png' diagram\n",
      "2025-04-22 20:49:48 [DEBUG] : STREAM b'IHDR' 16 13\n",
      "2025-04-22 20:49:48 [DEBUG] : STREAM b'pHYs' 41 9\n",
      "2025-04-22 20:49:48 [DEBUG] : STREAM b'IDAT' 62 38631\n"
     ]
    },
    {
     "name": "stdout",
     "output_type": "stream",
     "text": [
      "Исправленная диаграмма V3 (RU) сохранена в файл process_example_corrected_ru_v3.png\n"
     ]
    }
   ],
   "source": [
    "# Импортируем необходимую функцию из библиотеки processpiper\n",
    "from processpiper.text2diagram import render\n",
    "\n",
    "# Определяем текстовое описание диаграммы с ИСПРАВЛЕННОЙ ЛОГИКОЙ СВЯЗЕЙ\n",
    "input_syntax_russian_corrected_v3 = \"\"\"\n",
    "title: Пример процесса обработки заявки\n",
    "colourtheme: BLUEMOUNTAIN\n",
    "\n",
    "pool: Клиент\n",
    "    lane: Клиент\n",
    "        (start) as start_event\n",
    "        [Заполнить форму] as fill_form\n",
    "        [Отправить заявку] as submit_request\n",
    "        start_event -> fill_form -> submit_request\n",
    "\n",
    "pool: Компания\n",
    "    lane: Отдел продаж\n",
    "        [Проверить заявку] as check_request\n",
    "        <Заявка полная?> as completeness_gateway  \n",
    "        [Одобрить заявку] as approve_request\n",
    "        [Отклонить заявку] as reject_request      \n",
    "        (end) as end_event\n",
    "\n",
    "        submit_request -> check_request -> completeness_gateway\n",
    "        completeness_gateway -> reject_request: Нет     \n",
    "        completeness_gateway -> approve_request: Да            \n",
    "        approve_request -> end_event\n",
    "        reject_request -> end_event                    \n",
    "\n",
    "footer: Процесс обработки заявки клиента\n",
    "\"\"\"\n",
    "\n",
    "# Генерируем диаграмму из текстового описания\n",
    "output_file_name_ru_v3 = \"process_example_corrected_ru_v3.png\"\n",
    "try:\n",
    "    render(input_syntax_russian_corrected_v3, output_file_name_ru_v3)\n",
    "    print(f\"Исправленная диаграмма V3 (RU) сохранена в файл {output_file_name_ru_v3}\")\n",
    "except ValueError as e:\n",
    "    print(f\"Возникла ошибка ValueError при генерации диаграммы V3 (RU): {e}\")\n",
    "except Exception as e: # Ловим другие возможные ошибки\n",
    "    print(f\"Возникла непредвиденная ошибка при генерации диаграммы V3 (RU): {e}\")"
   ]
  },
  {
   "cell_type": "code",
   "execution_count": 8,
   "metadata": {},
   "outputs": [
    {
     "name": "stdout",
     "output_type": "stream",
     "text": [
      "\n",
      "title: Пример процесса обработки заявки\n",
      "colourtheme: BLUEMOUNTAIN\n",
      "\n",
      "pool: Клиент\n",
      "    lane: Клиент\n",
      "        (start) as start_event\n",
      "        [Заполнить форму] as fill_form\n",
      "        [Отправить заявку] as submit_request\n",
      "        start_event -> fill_form -> submit_request\n",
      "\n",
      "pool: Компания\n",
      "    lane: Отдел продаж\n",
      "        [Проверить заявку] as check_request\n",
      "        <Заявка полная?> as completeness_gateway  \n",
      "        [Одобрить заявку] as approve_request\n",
      "        [Отклонить заявку] as reject_request      \n",
      "        (end) as end_event\n",
      "\n",
      "        submit_request -> check_request -> completeness_gateway\n",
      "        completeness_gateway -> reject_request: Нет     \n",
      "        completeness_gateway -> approve_request: Да            \n",
      "        approve_request -> end_event\n",
      "        reject_request -> end_event                    \n",
      "\n",
      "footer: Процесс обработки заявки клиента\n",
      "\n"
     ]
    }
   ],
   "source": [
    "print(input_syntax_russian_corrected_v3)"
   ]
  },
  {
   "cell_type": "code",
   "execution_count": null,
   "metadata": {},
   "outputs": [],
   "source": []
  }
 ],
 "metadata": {
  "kernelspec": {
   "display_name": "venv",
   "language": "python",
   "name": "python3"
  },
  "language_info": {
   "codemirror_mode": {
    "name": "ipython",
    "version": 3
   },
   "file_extension": ".py",
   "mimetype": "text/x-python",
   "name": "python",
   "nbconvert_exporter": "python",
   "pygments_lexer": "ipython3",
   "version": "3.10.0"
  }
 },
 "nbformat": 4,
 "nbformat_minor": 2
}
